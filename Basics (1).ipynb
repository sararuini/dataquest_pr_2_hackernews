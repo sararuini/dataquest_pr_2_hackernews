{
 "cells": [
  {
   "cell_type": "markdown",
   "metadata": {
    "collapsed": true
   },
   "source": [
    "Data Hacker News\n",
    "[Data Source](https://www.kaggle.com/hacker-news/hacker-news-posts)"
   ]
  },
  {
   "cell_type": "code",
   "execution_count": 1,
   "metadata": {
    "collapsed": false
   },
   "outputs": [
    {
     "name": "stdout",
     "output_type": "stream",
     "text": [
      "[['id', 'title', 'url', 'num_points', 'num_comments', 'author', 'created_at'], ['12224879', 'Interactive Dynamic Video', 'http://www.interactivedynamicvideo.com/', '386', '52', 'ne0phyte', '8/4/2016 11:52'], ['10975351', 'How to Use Open Source and Shut the Fuck Up at the Same Time', 'http://hueniverse.com/2016/01/26/how-to-use-open-source-and-shut-the-fuck-up-at-the-same-time/', '39', '10', 'josep2', '1/26/2016 19:30'], ['11964716', \"Florida DJs May Face Felony for April Fools' Water Joke\", 'http://www.thewire.com/entertainment/2013/04/florida-djs-april-fools-water-joke/63798/', '2', '1', 'vezycash', '6/23/2016 22:20'], ['11919867', 'Technology ventures: From Idea to Enterprise', 'https://www.amazon.com/Technology-Ventures-Enterprise-Thomas-Byers/dp/0073523429', '3', '1', 'hswarna', '6/17/2016 0:01']]\n"
     ]
    }
   ],
   "source": [
    "#file opening\n",
    "from csv import reader\n",
    "open_file = open(\"hacker_news.csv\")\n",
    "read_file = reader(open_file)\n",
    "hn = list(read_file)\n",
    "print(hn[:5])"
   ]
  },
  {
   "cell_type": "code",
   "execution_count": 2,
   "metadata": {
    "collapsed": false
   },
   "outputs": [
    {
     "name": "stdout",
     "output_type": "stream",
     "text": [
      "['id', 'title', 'url', 'num_points', 'num_comments', 'author', 'created_at']\n",
      "/n rows\n",
      "[['12224879', 'Interactive Dynamic Video', 'http://www.interactivedynamicvideo.com/', '386', '52', 'ne0phyte', '8/4/2016 11:52'], ['10975351', 'How to Use Open Source and Shut the Fuck Up at the Same Time', 'http://hueniverse.com/2016/01/26/how-to-use-open-source-and-shut-the-fuck-up-at-the-same-time/', '39', '10', 'josep2', '1/26/2016 19:30'], ['11964716', \"Florida DJs May Face Felony for April Fools' Water Joke\", 'http://www.thewire.com/entertainment/2013/04/florida-djs-april-fools-water-joke/63798/', '2', '1', 'vezycash', '6/23/2016 22:20'], ['11919867', 'Technology ventures: From Idea to Enterprise', 'https://www.amazon.com/Technology-Ventures-Enterprise-Thomas-Byers/dp/0073523429', '3', '1', 'hswarna', '6/17/2016 0:01'], ['10301696', 'Note by Note: The Making of Steinway L1037 (2007)', 'http://www.nytimes.com/2007/11/07/movies/07stein.html?_r=0', '8', '2', 'walterbell', '9/30/2015 4:12']]\n"
     ]
    }
   ],
   "source": [
    "headers = hn[0] #header\n",
    "del hn[0] #header removed from data set\n",
    "#verification\n",
    "print(headers)\n",
    "print(\"/n rows\")\n",
    "print(hn[:5])"
   ]
  },
  {
   "cell_type": "code",
   "execution_count": 3,
   "metadata": {
    "collapsed": false
   },
   "outputs": [
    {
     "name": "stdout",
     "output_type": "stream",
     "text": [
      "Ask posts: 1744\n",
      "[['12296411', 'Ask HN: How to improve my personal website?', '', '2', '6', 'ahmedbaracat', '8/16/2016 9:55'], ['10610020', 'Ask HN: Am I the only one outraged by Twitter shutting down share counts?', '', '28', '29', 'tkfx', '11/22/2015 13:43']]\n",
      "Show posts: 1162\n",
      "[['10627194', 'Show HN: Wio Link  ESP8266 Based Web of Things Hardware Development Platform', 'https://iot.seeed.cc', '26', '22', 'kfihihc', '11/25/2015 14:03'], ['10646440', 'Show HN: Something pointless I made', 'http://dn.ht/picklecat/', '747', '102', 'dhotson', '11/29/2015 22:46']]\n",
      "Other posts: 17194\n",
      "[['12224879', 'Interactive Dynamic Video', 'http://www.interactivedynamicvideo.com/', '386', '52', 'ne0phyte', '8/4/2016 11:52'], ['10975351', 'How to Use Open Source and Shut the Fuck Up at the Same Time', 'http://hueniverse.com/2016/01/26/how-to-use-open-source-and-shut-the-fuck-up-at-the-same-time/', '39', '10', 'josep2', '1/26/2016 19:30']]\n"
     ]
    }
   ],
   "source": [
    "ask_posts = []\n",
    "show_posts = []\n",
    "other_posts = []\n",
    "for row in hn:\n",
    "    title = row[1].lower()\n",
    "    if title.startswith(\"ask hn\"):\n",
    "        ask_posts.append(row)\n",
    "    elif title.startswith(\"show hn\"):\n",
    "        show_posts.append(row)\n",
    "    else:\n",
    "        other_posts.append(row)\n",
    "\n",
    "#ask posts\n",
    "num_ask_posts= len(ask_posts)\n",
    "print(\"Ask posts: \" + str(num_ask_posts))\n",
    "print(ask_posts[:2])\n",
    "#show posts\n",
    "num_show_posts = len(show_posts)\n",
    "print(\"Show posts: \" + str(num_show_posts))\n",
    "print(show_posts[:2])\n",
    "#other posts\n",
    "num_other_posts = len(other_posts)\n",
    "print(\"Other posts: \" + str(num_other_posts))\n",
    "print(other_posts[:2])\n"
   ]
  },
  {
   "cell_type": "code",
   "execution_count": 4,
   "metadata": {
    "collapsed": false
   },
   "outputs": [
    {
     "name": "stdout",
     "output_type": "stream",
     "text": [
      "Average ask comments: 14.038417431192661\n",
      "Average show comments: 10.31669535283993\n",
      "Average other comments: 26.8730371059672\n"
     ]
    }
   ],
   "source": [
    "def extract_comments(dataset, data_variable):\n",
    "    for row in dataset:\n",
    "        num_comments = row[4]\n",
    "        num_comments = int(num_comments)\n",
    "        data_variable += num_comments\n",
    "    return data_variable\n",
    "        \n",
    "#ask comments\n",
    "total_ask_comments = 0\n",
    "\n",
    "total_ask_comments = extract_comments(ask_posts, total_ask_comments)\n",
    "    \n",
    "avg_ask_comments = total_ask_comments / num_ask_posts\n",
    "print(\"Average ask comments: \" + str(avg_ask_comments))\n",
    "\n",
    "#show comments\n",
    "total_show_comments = 0\n",
    "total_show_comments = extract_comments(show_posts, total_show_comments)\n",
    "\n",
    "avg_show_comments = total_show_comments / num_show_posts\n",
    "print(\"Average show comments: \" + str(avg_show_comments))\n",
    "\n",
    "#other posts\n",
    "total_other_comments = 0\n",
    "total_other_comments = extract_comments(other_posts, total_other_comments)\n",
    "\n",
    "avg_other_comments = total_other_comments / num_other_posts\n",
    "print(\"Average other comments: \" + str(avg_other_comments))\n",
    "\n",
    "    "
   ]
  },
  {
   "cell_type": "code",
   "execution_count": 5,
   "metadata": {
    "collapsed": false
   },
   "outputs": [
    {
     "name": "stdout",
     "output_type": "stream",
     "text": [
      "Counts by hour: \n",
      "{'11': 58, '04': 47, '20': 80, '08': 48, '06': 44, '01': 60, '15': 116, '09': 45, '05': 46, '23': 68, '00': 55, '22': 71, '03': 54, '12': 73, '07': 34, '19': 110, '16': 108, '17': 100, '21': 109, '18': 109, '14': 107, '13': 85, '10': 59, '02': 58}\n",
      "Comments by hour: \n",
      "{'11': 641, '04': 337, '20': 1722, '08': 492, '06': 397, '01': 683, '15': 4477, '09': 251, '05': 464, '23': 543, '00': 447, '22': 479, '03': 421, '12': 687, '07': 267, '19': 1188, '16': 1814, '17': 1146, '21': 1745, '18': 1439, '14': 1416, '13': 1253, '10': 793, '02': 1381}\n"
     ]
    }
   ],
   "source": [
    "import datetime as dt\n",
    "result_list = []\n",
    "\n",
    "for row in ask_posts:\n",
    "    created_at = row[6]\n",
    "    num_comments = int(row[4]) \n",
    "    result_list.append([created_at, num_comments])\n",
    "\n",
    "counts_by_hour = {}\n",
    "comments_by_hour = {}\n",
    "\n",
    "date_format = \"%m/%d/%Y %H:%M\"\n",
    "\n",
    "for row in result_list:\n",
    "    date = row[0]\n",
    "    comment = row[1]\n",
    "    time = dt.datetime.strptime(date, date_format).strftime(\"%H\")\n",
    "    if time not in counts_by_hour:\n",
    "        counts_by_hour[time] = 1\n",
    "        comments_by_hour[time] = comment\n",
    "    else:\n",
    "        counts_by_hour[time] += 1\n",
    "        comments_by_hour[time] += comment\n",
    "print(\"Counts by hour: \")\n",
    "print(counts_by_hour)\n",
    "print(\"Comments by hour: \")\n",
    "print(comments_by_hour)"
   ]
  },
  {
   "cell_type": "code",
   "execution_count": 11,
   "metadata": {
    "collapsed": false
   },
   "outputs": [
    {
     "name": "stdout",
     "output_type": "stream",
     "text": [
      "[['11', 11.051724137931034], ['04', 7.170212765957447], ['20', 21.525], ['08', 10.25], ['06', 9.022727272727273], ['01', 11.383333333333333], ['15', 38.5948275862069], ['09', 5.5777777777777775], ['05', 10.08695652173913], ['23', 7.985294117647059], ['00', 8.127272727272727], ['22', 6.746478873239437], ['03', 7.796296296296297], ['12', 9.41095890410959], ['07', 7.852941176470588], ['19', 10.8], ['16', 16.796296296296298], ['17', 11.46], ['21', 16.009174311926607], ['18', 13.20183486238532], ['14', 13.233644859813085], ['13', 14.741176470588234], ['10', 13.440677966101696], ['02', 23.810344827586206]]\n"
     ]
    }
   ],
   "source": [
    "avg_by_hour = [] #average num of comments per post for posts created during each hour of the day\n",
    "for hr in comments_by_hour:\n",
    "    avg_by_hour.append([hr, comments_by_hour[hr] / counts_by_hour[hr]])\n",
    "print(avg_by_hour)"
   ]
  },
  {
   "cell_type": "code",
   "execution_count": 16,
   "metadata": {
    "collapsed": false
   },
   "outputs": [
    {
     "name": "stdout",
     "output_type": "stream",
     "text": [
      "Top 5 Hours for Ask Posts Comments\n",
      "[[38.5948275862069, '15'], [23.810344827586206, '02'], [21.525, '20'], [16.796296296296298, '16'], [16.009174311926607, '21']]\n"
     ]
    }
   ],
   "source": [
    "swap_avg_by_hour = []\n",
    "for row in avg_by_hour:\n",
    "    hour = row[0]\n",
    "    avg_num_comments = row[1]\n",
    "    swap_avg_by_hour.append([avg_num_comments, hour])\n",
    "\n",
    "sorted_swap = sorted(swap_avg_by_hour, reverse= True)\n",
    "print(\"Top 5 Hours for Ask Posts Comments\")\n",
    "print(sorted_swap[:5])"
   ]
  },
  {
   "cell_type": "code",
   "execution_count": 19,
   "metadata": {
    "collapsed": false
   },
   "outputs": [
    {
     "name": "stdout",
     "output_type": "stream",
     "text": [
      "15:00: 38.59 average comments per post\n",
      "02:00: 23.81 average comments per post\n",
      "20:00: 21.52 average comments per post\n",
      "16:00: 16.80 average comments per post\n",
      "21:00: 16.01 average comments per post\n"
     ]
    }
   ],
   "source": [
    "for avg, hr in sorted_swap[:5]:\n",
    "    print(\"{}: {:.2f} average comments per post\".format(\n",
    "            dt.datetime.strptime(hr, \"%H\").strftime(\"%H:%M\"), avg))        "
   ]
  },
  {
   "cell_type": "code",
   "execution_count": null,
   "metadata": {
    "collapsed": true
   },
   "outputs": [],
   "source": []
  }
 ],
 "metadata": {
  "kernelspec": {
   "display_name": "Python 3",
   "language": "python",
   "name": "python3"
  },
  "language_info": {
   "codemirror_mode": {
    "name": "ipython",
    "version": 3
   },
   "file_extension": ".py",
   "mimetype": "text/x-python",
   "name": "python",
   "nbconvert_exporter": "python",
   "pygments_lexer": "ipython3",
   "version": "3.4.3"
  }
 },
 "nbformat": 4,
 "nbformat_minor": 2
}
